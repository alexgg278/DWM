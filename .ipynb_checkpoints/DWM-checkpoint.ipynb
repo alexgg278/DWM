{
 "cells": [
  {
   "cell_type": "markdown",
   "metadata": {},
   "source": [
    "# DWM (Dynamic Weighted Majority)\n",
    "\n",
    "In this notebook the algorithm DWM for concept drift handleling is implemented."
   ]
  },
  {
   "cell_type": "markdown",
   "metadata": {},
   "source": [
    "## Concepts\n",
    "\n",
    "* **Concept Drift:** It is the phenomena in which the label of data instances shifts over time, i.e., two similar samples will have different label depending on the time.\n",
    "\n",
    "* **Ensemble Methods:** It is the method in which several learnes are used to train different classifiers to later predict the class label based on a voting or weighted approach.\n",
    "\n",
    "    * *Bagging*\n",
    "    * *Boosting*\n",
    "    * *Stacking*\n",
    "    \n",
    "**<font color=blue>DWM algorithm</font>**\n",
    "\n",
    "* ***Description:***\n",
    "\n",
    "    - \n",
    " \n",
    "* ***Elements:***\n",
    "\n",
    "    - m: Number of experts\n",
    "    - E: Expert\n",
    "    - wj: Expert's weight\n",
    "    - n: Input training samples\n",
    "    - c: number of classes\n",
    "    - β: decreasing weight factor (0 ≤ β < 1)\n",
    "    - θ: Removing learner weight threshold\n",
    "    - p: How often DWM removes or update weights\n",
    "    - Λ,λ ∈ {1,..., c}: global and local predictions\n",
    "\n",
    "\n",
    "* ***Algorithm:***\n",
    "\n",
    "    / 1. m ← 1\n",
    "\n",
    "    / 2. em ← Create-New-Expert()\n",
    "\n",
    "    / 3. wm ← 1\n",
    "\n",
    "    / 4. for i ← 1,...,n // Loop over examples\n",
    "\n",
    "        / 5. ~σ ← 0\n",
    "\n",
    "        / 6. for j ← 1,...,m // Loop over experts\n",
    "\n",
    "            / 7. λ ← Classify(e j,~xi)\n",
    "\n",
    "            / 8. if (λ 6= yi and i mod p = 0)\n",
    "\n",
    "                / 9. wj ← βwj\n",
    "\n",
    "            / 10. σλ ← σλ +wj\n",
    "\n",
    "        / 11. end;\n",
    "\n",
    "        / 12. Λ ← argmaxj σj\n",
    "\n",
    "        / 13. if (i mod p = 0)\n",
    "\n",
    "            / 14. w ← Normalize-Weights(w)\n",
    "\n",
    "            / 15. {e,w} ← Remove-Experts({e,w},θ)\n",
    "\n",
    "            / 16. if (Λ 6= yi)\n",
    "\n",
    "                / 17. m ← m+1\n",
    "\n",
    "                / 18. em ← Create-New-Expert()\n",
    "\n",
    "                / 19. wm ← 1\n",
    "\n",
    "            / 20. end;\n",
    "\n",
    "        / 21. end;\n",
    "\n",
    "        / 22. for j ← 1,...,m\n",
    "\n",
    "            / 23. e j ← Train(e j,~xi, yi)\n",
    "\n",
    "            / 24. output Λ\n",
    "\n",
    "        end;\n",
    "\n",
    "    end"
   ]
  }
 ],
 "metadata": {
  "kernelspec": {
   "display_name": "Python 3",
   "language": "python",
   "name": "python3"
  },
  "language_info": {
   "codemirror_mode": {
    "name": "ipython",
    "version": 3
   },
   "file_extension": ".py",
   "mimetype": "text/x-python",
   "name": "python",
   "nbconvert_exporter": "python",
   "pygments_lexer": "ipython3",
   "version": "3.7.3"
  },
  "varInspector": {
   "cols": {
    "lenName": 16,
    "lenType": 16,
    "lenVar": 40
   },
   "kernels_config": {
    "python": {
     "delete_cmd_postfix": "",
     "delete_cmd_prefix": "del ",
     "library": "var_list.py",
     "varRefreshCmd": "print(var_dic_list())"
    },
    "r": {
     "delete_cmd_postfix": ") ",
     "delete_cmd_prefix": "rm(",
     "library": "var_list.r",
     "varRefreshCmd": "cat(var_dic_list()) "
    }
   },
   "types_to_exclude": [
    "module",
    "function",
    "builtin_function_or_method",
    "instance",
    "_Feature"
   ],
   "window_display": false
  }
 },
 "nbformat": 4,
 "nbformat_minor": 2
}
